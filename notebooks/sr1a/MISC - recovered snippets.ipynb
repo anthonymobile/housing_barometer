{
 "cells": [
  {
   "cell_type": "code",
   "execution_count": null,
   "metadata": {},
   "outputs": [],
   "source": [
    "import matplotlib.pyplot as plt\n",
    "pd.options.display.mpl_style = 'default'"
   ]
  },
  {
   "cell_type": "code",
   "execution_count": null,
   "metadata": {},
   "outputs": [],
   "source": [
    "# compute a new column for year of sale from 'deed_date' per http://bit.ly/212V1LN\n",
    "df['date'] = pd.to_datetime(df['deed_date'])\n",
    "\n",
    "# and slice out the year and month for later\n",
    "df['year'], df['month'] = df['date'].dt.year, df['date'].dt.month"
   ]
  },
  {
   "cell_type": "code",
   "execution_count": null,
   "metadata": {},
   "outputs": [],
   "source": [
    "# Hudson country distrct labels for niceness\n",
    "district_labels = {1:'Bayonne',2:'East Newark',3:'Guttenberg',4:'Harrison',5:'Hoboken',6:'Jersey City',7:'Kearny',8:'North Bergen',9:'Secaucus',10:'Union City',11:'Weehawken',12:'West New York'}\n",
    "df['district_code'] = df['district_code'].map(district_labels)"
   ]
  },
  {
   "cell_type": "code",
   "execution_count": null,
   "metadata": {},
   "outputs": [],
   "source": [
    "# number of sales by month\n",
    "sales_count = df.groupby(['year','month']).size()\n",
    "my_plot = sales_count.plot(kind='line')"
   ]
  },
  {
   "cell_type": "code",
   "execution_count": null,
   "metadata": {},
   "outputs": [],
   "source": [
    "# number of sales by month\n",
    "sales_avgprice = df.groupby(['year','month']).mean()\n",
    "my_plot = sales_avgprice.plot(y='reported_sales_price',kind='line')"
   ]
  },
  {
   "cell_type": "code",
   "execution_count": null,
   "metadata": {},
   "outputs": [],
   "source": []
  }
 ],
 "metadata": {
  "kernelspec": {
   "display_name": "Python 3",
   "language": "python",
   "name": "python3"
  },
  "language_info": {
   "codemirror_mode": {
    "name": "ipython",
    "version": 3
   },
   "file_extension": ".py",
   "mimetype": "text/x-python",
   "name": "python",
   "nbconvert_exporter": "python",
   "pygments_lexer": "ipython3",
   "version": "3.7.0"
  }
 },
 "nbformat": 4,
 "nbformat_minor": 2
}

{
 "cells": [
  {
   "cell_type": "code",
   "execution_count": 39,
   "metadata": {
    "collapsed": true
   },
   "outputs": [],
   "source": [
    "# NJ SR1A 'Grantors Listing', 2009 through Jan 2016 - from http://www.state.nj.us/treasury/taxation/lpt/grantors_listing.shtml"
   ]
  },
  {
   "cell_type": "code",
   "execution_count": 40,
   "metadata": {
    "collapsed": true
   },
   "outputs": [],
   "source": [
    "# Full Hudson County extract"
   ]
  },
  {
   "cell_type": "code",
   "execution_count": 41,
   "metadata": {
    "collapsed": true
   },
   "outputs": [],
   "source": [
    "import pandas as pd"
   ]
  },
  {
   "cell_type": "code",
   "execution_count": 42,
   "metadata": {
    "collapsed": true
   },
   "outputs": [],
   "source": [
    "from pandas import DataFrame as hoboken"
   ]
  },
  {
   "cell_type": "code",
   "execution_count": 43,
   "metadata": {
    "collapsed": true
   },
   "outputs": [],
   "source": [
    "import numpy as np"
   ]
  },
  {
   "cell_type": "code",
   "execution_count": 44,
   "metadata": {
    "scrolled": true
   },
   "outputs": [],
   "source": [
    "hudson = pd.read_csv('hudson_sr1a.csv', header=0, index_col='recordid', low_memory=False)"
   ]
  },
  {
   "cell_type": "code",
   "execution_count": 45,
   "metadata": {},
   "outputs": [
    {
     "data": {
      "text/html": [
       "<div>\n",
       "<table border=\"1\" class=\"dataframe\">\n",
       "  <thead>\n",
       "    <tr style=\"text-align: right;\">\n",
       "      <th></th>\n",
       "      <th>pams_pin</th>\n",
       "      <th>source</th>\n",
       "      <th>addl_block1</th>\n",
       "      <th>addl_block2</th>\n",
       "      <th>addl_block3</th>\n",
       "      <th>addl_block4</th>\n",
       "      <th>addl_block5</th>\n",
       "      <th>addl_lot1</th>\n",
       "      <th>addl_lot2</th>\n",
       "      <th>addl_lot3</th>\n",
       "      <th>...</th>\n",
       "      <th>reported_sales_price</th>\n",
       "      <th>rtf_error_flag</th>\n",
       "      <th>rtf_exempt_code</th>\n",
       "      <th>sales_ratio</th>\n",
       "      <th>serial_number</th>\n",
       "      <th>sr_nu_code</th>\n",
       "      <th>u_n_type</th>\n",
       "      <th>verified_sales_price</th>\n",
       "      <th>year_built</th>\n",
       "      <th>timeinserted</th>\n",
       "    </tr>\n",
       "    <tr>\n",
       "      <th>recordid</th>\n",
       "      <th></th>\n",
       "      <th></th>\n",
       "      <th></th>\n",
       "      <th></th>\n",
       "      <th></th>\n",
       "      <th></th>\n",
       "      <th></th>\n",
       "      <th></th>\n",
       "      <th></th>\n",
       "      <th></th>\n",
       "      <th></th>\n",
       "      <th></th>\n",
       "      <th></th>\n",
       "      <th></th>\n",
       "      <th></th>\n",
       "      <th></th>\n",
       "      <th></th>\n",
       "      <th></th>\n",
       "      <th></th>\n",
       "      <th></th>\n",
       "      <th></th>\n",
       "    </tr>\n",
       "  </thead>\n",
       "  <tbody>\n",
       "    <tr>\n",
       "      <th>44035</th>\n",
       "      <td>0901_77_3</td>\n",
       "      <td>NaN</td>\n",
       "      <td>00000</td>\n",
       "      <td>00000</td>\n",
       "      <td>00000</td>\n",
       "      <td>00000</td>\n",
       "      <td>00000</td>\n",
       "      <td>00000</td>\n",
       "      <td>00000</td>\n",
       "      <td>00000</td>\n",
       "      <td>...</td>\n",
       "      <td>1</td>\n",
       "      <td>NaN</td>\n",
       "      <td>E</td>\n",
       "      <td>0</td>\n",
       "      <td>4552257</td>\n",
       "      <td>25</td>\n",
       "      <td>N</td>\n",
       "      <td>1</td>\n",
       "      <td>1920</td>\n",
       "      <td>2016-02-15 21:57:22.962313</td>\n",
       "    </tr>\n",
       "    <tr>\n",
       "      <th>44024</th>\n",
       "      <td>0901_56_45.02</td>\n",
       "      <td>NaN</td>\n",
       "      <td>00000</td>\n",
       "      <td>00000</td>\n",
       "      <td>00000</td>\n",
       "      <td>00000</td>\n",
       "      <td>00000</td>\n",
       "      <td>00000</td>\n",
       "      <td>00000</td>\n",
       "      <td>00000</td>\n",
       "      <td>...</td>\n",
       "      <td>1</td>\n",
       "      <td>NaN</td>\n",
       "      <td>E</td>\n",
       "      <td>0</td>\n",
       "      <td>4552251</td>\n",
       "      <td>25</td>\n",
       "      <td>N</td>\n",
       "      <td>1</td>\n",
       "      <td>0</td>\n",
       "      <td>2016-02-15 21:57:22.962313</td>\n",
       "    </tr>\n",
       "    <tr>\n",
       "      <th>44025</th>\n",
       "      <td>0901_196_1</td>\n",
       "      <td>NaN</td>\n",
       "      <td>00000</td>\n",
       "      <td>00000</td>\n",
       "      <td>00000</td>\n",
       "      <td>00000</td>\n",
       "      <td>00000</td>\n",
       "      <td>00000</td>\n",
       "      <td>00000</td>\n",
       "      <td>00000</td>\n",
       "      <td>...</td>\n",
       "      <td>490000</td>\n",
       "      <td>E</td>\n",
       "      <td>NaN</td>\n",
       "      <td>0</td>\n",
       "      <td>4552289</td>\n",
       "      <td>06</td>\n",
       "      <td>N</td>\n",
       "      <td>490000</td>\n",
       "      <td>0</td>\n",
       "      <td>2016-02-15 21:57:22.962313</td>\n",
       "    </tr>\n",
       "    <tr>\n",
       "      <th>44026</th>\n",
       "      <td>0901_23_19</td>\n",
       "      <td>NaN</td>\n",
       "      <td>00000</td>\n",
       "      <td>00000</td>\n",
       "      <td>00000</td>\n",
       "      <td>00000</td>\n",
       "      <td>00000</td>\n",
       "      <td>00000</td>\n",
       "      <td>00000</td>\n",
       "      <td>00000</td>\n",
       "      <td>...</td>\n",
       "      <td>125000</td>\n",
       "      <td>E</td>\n",
       "      <td>NaN</td>\n",
       "      <td>0</td>\n",
       "      <td>4552758</td>\n",
       "      <td>26</td>\n",
       "      <td>N</td>\n",
       "      <td>125000</td>\n",
       "      <td>0</td>\n",
       "      <td>2016-02-15 21:57:22.962313</td>\n",
       "    </tr>\n",
       "    <tr>\n",
       "      <th>44027</th>\n",
       "      <td>0901_289_11</td>\n",
       "      <td>NaN</td>\n",
       "      <td>00000</td>\n",
       "      <td>00000</td>\n",
       "      <td>00000</td>\n",
       "      <td>00000</td>\n",
       "      <td>00000</td>\n",
       "      <td>00000</td>\n",
       "      <td>00000</td>\n",
       "      <td>00000</td>\n",
       "      <td>...</td>\n",
       "      <td>1</td>\n",
       "      <td>NaN</td>\n",
       "      <td>E</td>\n",
       "      <td>0</td>\n",
       "      <td>4554212</td>\n",
       "      <td>25</td>\n",
       "      <td>N</td>\n",
       "      <td>1</td>\n",
       "      <td>0</td>\n",
       "      <td>2016-02-15 21:57:22.962313</td>\n",
       "    </tr>\n",
       "  </tbody>\n",
       "</table>\n",
       "<p>5 rows × 88 columns</p>\n",
       "</div>"
      ],
      "text/plain": [
       "               pams_pin  source addl_block1 addl_block2 addl_block3  \\\n",
       "recordid                                                              \n",
       "44035         0901_77_3     NaN       00000       00000       00000   \n",
       "44024     0901_56_45.02     NaN       00000       00000       00000   \n",
       "44025        0901_196_1     NaN       00000       00000       00000   \n",
       "44026        0901_23_19     NaN       00000       00000       00000   \n",
       "44027       0901_289_11     NaN       00000       00000       00000   \n",
       "\n",
       "         addl_block4 addl_block5 addl_lot1 addl_lot2 addl_lot3  \\\n",
       "recordid                                                         \n",
       "44035          00000       00000     00000     00000     00000   \n",
       "44024          00000       00000     00000     00000     00000   \n",
       "44025          00000       00000     00000     00000     00000   \n",
       "44026          00000       00000     00000     00000     00000   \n",
       "44027          00000       00000     00000     00000     00000   \n",
       "\n",
       "                     ...             reported_sales_price rtf_error_flag  \\\n",
       "recordid             ...                                                   \n",
       "44035                ...                                1            NaN   \n",
       "44024                ...                                1            NaN   \n",
       "44025                ...                           490000              E   \n",
       "44026                ...                           125000              E   \n",
       "44027                ...                                1            NaN   \n",
       "\n",
       "         rtf_exempt_code sales_ratio serial_number sr_nu_code u_n_type  \\\n",
       "recordid                                                                 \n",
       "44035                  E           0       4552257         25        N   \n",
       "44024                  E           0       4552251         25        N   \n",
       "44025                NaN           0       4552289         06        N   \n",
       "44026                NaN           0       4552758         26        N   \n",
       "44027                  E           0       4554212         25        N   \n",
       "\n",
       "          verified_sales_price  year_built                timeinserted  \n",
       "recordid                                                                \n",
       "44035                        1        1920  2016-02-15 21:57:22.962313  \n",
       "44024                        1           0  2016-02-15 21:57:22.962313  \n",
       "44025                   490000           0  2016-02-15 21:57:22.962313  \n",
       "44026                   125000           0  2016-02-15 21:57:22.962313  \n",
       "44027                        1           0  2016-02-15 21:57:22.962313  \n",
       "\n",
       "[5 rows x 88 columns]"
      ]
     },
     "execution_count": 45,
     "metadata": {},
     "output_type": "execute_result"
    }
   ],
   "source": [
    "hudson[:5]"
   ]
  },
  {
   "cell_type": "code",
   "execution_count": 46,
   "metadata": {
    "collapsed": true
   },
   "outputs": [],
   "source": [
    "# compute a new column for year of sale from 'deed_date' per http://bit.ly/212V1LN"
   ]
  },
  {
   "cell_type": "code",
   "execution_count": 47,
   "metadata": {},
   "outputs": [],
   "source": [
    "hudson['date'] = pd.to_datetime(hudson['deed_date'])"
   ]
  },
  {
   "cell_type": "code",
   "execution_count": 48,
   "metadata": {
    "collapsed": true
   },
   "outputs": [],
   "source": [
    "# and slice out the year and month for later"
   ]
  },
  {
   "cell_type": "code",
   "execution_count": 49,
   "metadata": {},
   "outputs": [],
   "source": [
    "hudson['year'], hudson['month'] = hudson['date'].dt.year, hudson['date'].dt.month"
   ]
  },
  {
   "cell_type": "code",
   "execution_count": 50,
   "metadata": {},
   "outputs": [
    {
     "data": {
      "text/html": [
       "<div>\n",
       "<table border=\"1\" class=\"dataframe\">\n",
       "  <thead>\n",
       "    <tr style=\"text-align: right;\">\n",
       "      <th></th>\n",
       "      <th>pams_pin</th>\n",
       "      <th>source</th>\n",
       "      <th>addl_block1</th>\n",
       "      <th>addl_block2</th>\n",
       "      <th>addl_block3</th>\n",
       "      <th>addl_block4</th>\n",
       "      <th>addl_block5</th>\n",
       "      <th>addl_lot1</th>\n",
       "      <th>addl_lot2</th>\n",
       "      <th>addl_lot3</th>\n",
       "      <th>...</th>\n",
       "      <th>sales_ratio</th>\n",
       "      <th>serial_number</th>\n",
       "      <th>sr_nu_code</th>\n",
       "      <th>u_n_type</th>\n",
       "      <th>verified_sales_price</th>\n",
       "      <th>year_built</th>\n",
       "      <th>timeinserted</th>\n",
       "      <th>date</th>\n",
       "      <th>year</th>\n",
       "      <th>month</th>\n",
       "    </tr>\n",
       "    <tr>\n",
       "      <th>recordid</th>\n",
       "      <th></th>\n",
       "      <th></th>\n",
       "      <th></th>\n",
       "      <th></th>\n",
       "      <th></th>\n",
       "      <th></th>\n",
       "      <th></th>\n",
       "      <th></th>\n",
       "      <th></th>\n",
       "      <th></th>\n",
       "      <th></th>\n",
       "      <th></th>\n",
       "      <th></th>\n",
       "      <th></th>\n",
       "      <th></th>\n",
       "      <th></th>\n",
       "      <th></th>\n",
       "      <th></th>\n",
       "      <th></th>\n",
       "      <th></th>\n",
       "      <th></th>\n",
       "    </tr>\n",
       "  </thead>\n",
       "  <tbody>\n",
       "    <tr>\n",
       "      <th>44035</th>\n",
       "      <td>0901_77_3</td>\n",
       "      <td>NaN</td>\n",
       "      <td>00000</td>\n",
       "      <td>00000</td>\n",
       "      <td>00000</td>\n",
       "      <td>00000</td>\n",
       "      <td>00000</td>\n",
       "      <td>00000</td>\n",
       "      <td>00000</td>\n",
       "      <td>00000</td>\n",
       "      <td>...</td>\n",
       "      <td>0</td>\n",
       "      <td>4552257</td>\n",
       "      <td>25</td>\n",
       "      <td>N</td>\n",
       "      <td>1</td>\n",
       "      <td>1920</td>\n",
       "      <td>2016-02-15 21:57:22.962313</td>\n",
       "      <td>2015-06-19</td>\n",
       "      <td>2015</td>\n",
       "      <td>6</td>\n",
       "    </tr>\n",
       "    <tr>\n",
       "      <th>44024</th>\n",
       "      <td>0901_56_45.02</td>\n",
       "      <td>NaN</td>\n",
       "      <td>00000</td>\n",
       "      <td>00000</td>\n",
       "      <td>00000</td>\n",
       "      <td>00000</td>\n",
       "      <td>00000</td>\n",
       "      <td>00000</td>\n",
       "      <td>00000</td>\n",
       "      <td>00000</td>\n",
       "      <td>...</td>\n",
       "      <td>0</td>\n",
       "      <td>4552251</td>\n",
       "      <td>25</td>\n",
       "      <td>N</td>\n",
       "      <td>1</td>\n",
       "      <td>0</td>\n",
       "      <td>2016-02-15 21:57:22.962313</td>\n",
       "      <td>2015-05-28</td>\n",
       "      <td>2015</td>\n",
       "      <td>5</td>\n",
       "    </tr>\n",
       "    <tr>\n",
       "      <th>44025</th>\n",
       "      <td>0901_196_1</td>\n",
       "      <td>NaN</td>\n",
       "      <td>00000</td>\n",
       "      <td>00000</td>\n",
       "      <td>00000</td>\n",
       "      <td>00000</td>\n",
       "      <td>00000</td>\n",
       "      <td>00000</td>\n",
       "      <td>00000</td>\n",
       "      <td>00000</td>\n",
       "      <td>...</td>\n",
       "      <td>0</td>\n",
       "      <td>4552289</td>\n",
       "      <td>06</td>\n",
       "      <td>N</td>\n",
       "      <td>490000</td>\n",
       "      <td>0</td>\n",
       "      <td>2016-02-15 21:57:22.962313</td>\n",
       "      <td>2015-07-30</td>\n",
       "      <td>2015</td>\n",
       "      <td>7</td>\n",
       "    </tr>\n",
       "    <tr>\n",
       "      <th>44026</th>\n",
       "      <td>0901_23_19</td>\n",
       "      <td>NaN</td>\n",
       "      <td>00000</td>\n",
       "      <td>00000</td>\n",
       "      <td>00000</td>\n",
       "      <td>00000</td>\n",
       "      <td>00000</td>\n",
       "      <td>00000</td>\n",
       "      <td>00000</td>\n",
       "      <td>00000</td>\n",
       "      <td>...</td>\n",
       "      <td>0</td>\n",
       "      <td>4552758</td>\n",
       "      <td>26</td>\n",
       "      <td>N</td>\n",
       "      <td>125000</td>\n",
       "      <td>0</td>\n",
       "      <td>2016-02-15 21:57:22.962313</td>\n",
       "      <td>2015-08-27</td>\n",
       "      <td>2015</td>\n",
       "      <td>8</td>\n",
       "    </tr>\n",
       "    <tr>\n",
       "      <th>44027</th>\n",
       "      <td>0901_289_11</td>\n",
       "      <td>NaN</td>\n",
       "      <td>00000</td>\n",
       "      <td>00000</td>\n",
       "      <td>00000</td>\n",
       "      <td>00000</td>\n",
       "      <td>00000</td>\n",
       "      <td>00000</td>\n",
       "      <td>00000</td>\n",
       "      <td>00000</td>\n",
       "      <td>...</td>\n",
       "      <td>0</td>\n",
       "      <td>4554212</td>\n",
       "      <td>25</td>\n",
       "      <td>N</td>\n",
       "      <td>1</td>\n",
       "      <td>0</td>\n",
       "      <td>2016-02-15 21:57:22.962313</td>\n",
       "      <td>2015-06-24</td>\n",
       "      <td>2015</td>\n",
       "      <td>6</td>\n",
       "    </tr>\n",
       "  </tbody>\n",
       "</table>\n",
       "<p>5 rows × 91 columns</p>\n",
       "</div>"
      ],
      "text/plain": [
       "               pams_pin  source addl_block1 addl_block2 addl_block3  \\\n",
       "recordid                                                              \n",
       "44035         0901_77_3     NaN       00000       00000       00000   \n",
       "44024     0901_56_45.02     NaN       00000       00000       00000   \n",
       "44025        0901_196_1     NaN       00000       00000       00000   \n",
       "44026        0901_23_19     NaN       00000       00000       00000   \n",
       "44027       0901_289_11     NaN       00000       00000       00000   \n",
       "\n",
       "         addl_block4 addl_block5 addl_lot1 addl_lot2 addl_lot3  ...    \\\n",
       "recordid                                                        ...     \n",
       "44035          00000       00000     00000     00000     00000  ...     \n",
       "44024          00000       00000     00000     00000     00000  ...     \n",
       "44025          00000       00000     00000     00000     00000  ...     \n",
       "44026          00000       00000     00000     00000     00000  ...     \n",
       "44027          00000       00000     00000     00000     00000  ...     \n",
       "\n",
       "         sales_ratio serial_number sr_nu_code u_n_type verified_sales_price  \\\n",
       "recordid                                                                      \n",
       "44035              0       4552257         25        N                    1   \n",
       "44024              0       4552251         25        N                    1   \n",
       "44025              0       4552289         06        N               490000   \n",
       "44026              0       4552758         26        N               125000   \n",
       "44027              0       4554212         25        N                    1   \n",
       "\n",
       "         year_built                timeinserted       date  year  month  \n",
       "recordid                                                                 \n",
       "44035          1920  2016-02-15 21:57:22.962313 2015-06-19  2015      6  \n",
       "44024             0  2016-02-15 21:57:22.962313 2015-05-28  2015      5  \n",
       "44025             0  2016-02-15 21:57:22.962313 2015-07-30  2015      7  \n",
       "44026             0  2016-02-15 21:57:22.962313 2015-08-27  2015      8  \n",
       "44027             0  2016-02-15 21:57:22.962313 2015-06-24  2015      6  \n",
       "\n",
       "[5 rows x 91 columns]"
      ]
     },
     "execution_count": 50,
     "metadata": {},
     "output_type": "execute_result"
    }
   ],
   "source": [
    "hudson[:5]"
   ]
  },
  {
   "cell_type": "code",
   "execution_count": 51,
   "metadata": {
    "collapsed": true
   },
   "outputs": [],
   "source": [
    "# lets recode the district_code for niceness"
   ]
  },
  {
   "cell_type": "code",
   "execution_count": 52,
   "metadata": {
    "collapsed": true
   },
   "outputs": [],
   "source": [
    "district_labels = {1:'Bayonne',2:'East Newark',3:'Guttenberg',4:'Harrison',5:'Hoboken',6:'Jersey City',7:'Kearny',8:'North Bergen',9:'Secaucus',10:'Union City',11:'Weehawken',12:'West New York'}"
   ]
  },
  {
   "cell_type": "code",
   "execution_count": 54,
   "metadata": {},
   "outputs": [],
   "source": [
    "hudson['district_code'] = hudson['district_code'].map(district_labels)"
   ]
  },
  {
   "cell_type": "code",
   "execution_count": 55,
   "metadata": {},
   "outputs": [
    {
     "data": {
      "text/plain": [
       "recordid\n",
       "44035    Bayonne\n",
       "44024    Bayonne\n",
       "44025    Bayonne\n",
       "44026    Bayonne\n",
       "44027    Bayonne\n",
       "Name: district_code, dtype: object"
      ]
     },
     "execution_count": 55,
     "metadata": {},
     "output_type": "execute_result"
    }
   ],
   "source": [
    "hudson['district_code'][:5]"
   ]
  },
  {
   "cell_type": "code",
   "execution_count": null,
   "metadata": {
    "collapsed": true
   },
   "outputs": [],
   "source": [
    "# and create a couple of splits for resale analysis and cities analysis"
   ]
  },
  {
   "cell_type": "code",
   "execution_count": 56,
   "metadata": {},
   "outputs": [],
   "source": [
    "parcelhistories = hudson.groupby('pams_pin')"
   ]
  },
  {
   "cell_type": "code",
   "execution_count": null,
   "metadata": {
    "collapsed": true
   },
   "outputs": [],
   "source": [
    "# file handling stuff"
   ]
  },
  {
   "cell_type": "code",
   "execution_count": 71,
   "metadata": {
    "collapsed": true
   },
   "outputs": [],
   "source": [
    "from pandas import ExcelWriter\n",
    "writer = ExcelWriter('Hudson_sr1a_outfile.xlsx')"
   ]
  },
  {
   "cell_type": "code",
   "execution_count": 22,
   "metadata": {
    "collapsed": true
   },
   "outputs": [],
   "source": [
    "#### DATA PREP COMPLETE -- ANALYSIS FOLLOWS"
   ]
  },
  {
   "cell_type": "code",
   "execution_count": 74,
   "metadata": {
    "collapsed": true
   },
   "outputs": [],
   "source": [
    "############################## MUNICIPALITY ANALYSIS IN PROGRESS ##############################"
   ]
  },
  {
   "cell_type": "code",
   "execution_count": null,
   "metadata": {
    "collapsed": true
   },
   "outputs": [],
   "source": [
    "# mean sales price by year by city"
   ]
  },
  {
   "cell_type": "code",
   "execution_count": 76,
   "metadata": {},
   "outputs": [],
   "source": [
    "salesprice_by_city_by_year = hudson.groupby(['district_code','year'])['reported_sales_price'].mean()"
   ]
  },
  {
   "cell_type": "code",
   "execution_count": 77,
   "metadata": {
    "scrolled": true
   },
   "outputs": [
    {
     "data": {
      "text/plain": [
       "district_code  year\n",
       "Bayonne        1998          1.000000\n",
       "               2003          1.000000\n",
       "               2004          1.000000\n",
       "               2005          1.000000\n",
       "               2006          1.000000\n",
       "               2007     195857.642857\n",
       "               2008     172211.444444\n",
       "               2009     206850.680851\n",
       "               2010     217230.297904\n",
       "               2011     294629.828076\n",
       "               2012     317543.023481\n",
       "               2013     190272.777632\n",
       "               2014     271559.891583\n",
       "               2015     515985.250760\n",
       "East Newark    2008     204175.083333\n",
       "               2009      74292.947368\n",
       "               2010     139786.071429\n",
       "               2011     124525.727273\n",
       "               2012     240417.227273\n",
       "               2013     170750.300000\n",
       "               2014     250817.000000\n",
       "               2015     186355.777778\n",
       "Guttenberg     2006     605000.000000\n",
       "               2007     300183.500000\n",
       "               2008     278036.243243\n",
       "               2009     185684.896825\n",
       "               2010     190063.659091\n",
       "               2011     328804.414634\n",
       "               2012     185209.788571\n",
       "               2013     227195.148936\n",
       "                            ...      \n",
       "Union City     2012     265809.009259\n",
       "               2013     191385.553041\n",
       "               2014     266544.334437\n",
       "               2015     258103.145973\n",
       "Weehawken      1916          1.000000\n",
       "               2003          1.000000\n",
       "               2005         10.000000\n",
       "               2006      14400.000000\n",
       "               2007          1.000000\n",
       "               2008    1214007.688000\n",
       "               2009     413002.490291\n",
       "               2010     445998.694805\n",
       "               2011     416376.420690\n",
       "               2012     419019.143791\n",
       "               2013     630487.817352\n",
       "               2014     907054.761404\n",
       "               2015     682285.188073\n",
       "West New York  1916     302416.916667\n",
       "               2002     105000.000000\n",
       "               2005          1.000000\n",
       "               2006     487500.500000\n",
       "               2007     248937.750000\n",
       "               2008     313322.391850\n",
       "               2009     346262.071979\n",
       "               2010     251633.263274\n",
       "               2011     290771.736842\n",
       "               2012     478853.968421\n",
       "               2013     272815.352342\n",
       "               2014     329229.724138\n",
       "               2015     335274.318945\n",
       "Name: reported_sales_price, dtype: float64"
      ]
     },
     "execution_count": 77,
     "metadata": {},
     "output_type": "execute_result"
    }
   ],
   "source": [
    "salesprice_by_city_by_year"
   ]
  },
  {
   "cell_type": "code",
   "execution_count": 79,
   "metadata": {},
   "outputs": [
    {
     "ename": "AttributeError",
     "evalue": "'Series' object has no attribute 'info'",
     "output_type": "error",
     "traceback": [
      "\u001b[0;31m---------------------------------------------------------------------------\u001b[0m",
      "\u001b[0;31mAttributeError\u001b[0m                            Traceback (most recent call last)",
      "\u001b[0;32m<ipython-input-79-66b6c28f62cc>\u001b[0m in \u001b[0;36m<module>\u001b[0;34m()\u001b[0m\n\u001b[0;32m----> 1\u001b[0;31m \u001b[0msalesprice_by_city_by_year\u001b[0m\u001b[0;34m.\u001b[0m\u001b[0minfo\u001b[0m\u001b[0;34m(\u001b[0m\u001b[0;34m)\u001b[0m\u001b[0;34m\u001b[0m\u001b[0m\n\u001b[0m",
      "\u001b[0;32m/Users/anthonytownsend/anaconda/lib/python2.7/site-packages/pandas/core/generic.pyc\u001b[0m in \u001b[0;36m__getattr__\u001b[0;34m(self, name)\u001b[0m\n\u001b[1;32m   2358\u001b[0m                 \u001b[0;32mreturn\u001b[0m \u001b[0mself\u001b[0m\u001b[0;34m[\u001b[0m\u001b[0mname\u001b[0m\u001b[0;34m]\u001b[0m\u001b[0;34m\u001b[0m\u001b[0m\n\u001b[1;32m   2359\u001b[0m             raise AttributeError(\"'%s' object has no attribute '%s'\" %\n\u001b[0;32m-> 2360\u001b[0;31m                                  (type(self).__name__, name))\n\u001b[0m\u001b[1;32m   2361\u001b[0m \u001b[0;34m\u001b[0m\u001b[0m\n\u001b[1;32m   2362\u001b[0m     \u001b[0;32mdef\u001b[0m \u001b[0m__setattr__\u001b[0m\u001b[0;34m(\u001b[0m\u001b[0mself\u001b[0m\u001b[0;34m,\u001b[0m \u001b[0mname\u001b[0m\u001b[0;34m,\u001b[0m \u001b[0mvalue\u001b[0m\u001b[0;34m)\u001b[0m\u001b[0;34m:\u001b[0m\u001b[0;34m\u001b[0m\u001b[0m\n",
      "\u001b[0;31mAttributeError\u001b[0m: 'Series' object has no attribute 'info'"
     ]
    }
   ],
   "source": [
    "salesprice_by_city_by_year.info()"
   ]
  },
  {
   "cell_type": "code",
   "execution_count": null,
   "metadata": {
    "collapsed": true
   },
   "outputs": [],
   "source": [
    "# how do i export salesprice_by_city_by_year?"
   ]
  },
  {
   "cell_type": "code",
   "execution_count": 80,
   "metadata": {
    "collapsed": true
   },
   "outputs": [],
   "source": [
    "salesprice_by_city_by_year.to_csv( 'file.csv' )"
   ]
  },
  {
   "cell_type": "code",
   "execution_count": null,
   "metadata": {
    "collapsed": true
   },
   "outputs": [],
   "source": [
    "############################## STOPPED HERE ##############################"
   ]
  },
  {
   "cell_type": "code",
   "execution_count": null,
   "metadata": {
    "collapsed": true
   },
   "outputs": [],
   "source": [
    "############################## RESALE ANALYSIS IN PROGRESS ##############################"
   ]
  },
  {
   "cell_type": "code",
   "execution_count": null,
   "metadata": {
    "collapsed": true
   },
   "outputs": [],
   "source": [
    "# now try to filter out the ones that have more than 1 sale"
   ]
  },
  {
   "cell_type": "code",
   "execution_count": null,
   "metadata": {
    "collapsed": true
   },
   "outputs": [],
   "source": [
    "# ? do a groupby and use that list as the filter?"
   ]
  },
  {
   "cell_type": "code",
   "execution_count": null,
   "metadata": {
    "collapsed": true
   },
   "outputs": [],
   "source": [
    "# maybe use this ut modify to keep the dupes instead ? http://wesmckinney.com/blog/filtering-out-duplicate-dataframe-rows/"
   ]
  },
  {
   "cell_type": "code",
   "execution_count": 37,
   "metadata": {
    "collapsed": true
   },
   "outputs": [],
   "source": [
    "# try compute the difference in reported_sales_price for the pairs (e.g. max-min)"
   ]
  },
  {
   "cell_type": "code",
   "execution_count": 1,
   "metadata": {
    "collapsed": true
   },
   "outputs": [],
   "source": [
    "# alex r says"
   ]
  },
  {
   "cell_type": "code",
   "execution_count": 3,
   "metadata": {},
   "outputs": [],
   "source": [
    "# data.groupby('parcelID').apply(func=myquestion)"
   ]
  },
  {
   "cell_type": "code",
   "execution_count": 4,
   "metadata": {
    "collapsed": true
   },
   "outputs": [],
   "source": [
    "# def func(temp_df)"
   ]
  },
  {
   "cell_type": "code",
   "execution_count": 30,
   "metadata": {
    "collapsed": true
   },
   "outputs": [],
   "source": [
    "? def flip_profit(grouped):\n",
    "    # n.b. this is accurate for the majority of resales = that only sold 2x 2009-2015\n",
    "    # but  doesnt yet for those that sold 3+ times\n",
    "    # will need to figure out how to sort 'grouped' and then iterate \n",
    "    # over the list creating n-1 profit values \n",
    "    # (and date deltas) from the list of n sales\n",
    "    \n",
    "    return grouped['reported_sales_price'].last - grouped['reported_sales_price'].first\n",
    "    "
   ]
  },
  {
   "cell_type": "code",
   "execution_count": null,
   "metadata": {
    "collapsed": true
   },
   "outputs": [],
   "source": []
  }
 ],
 "metadata": {
  "anaconda-cloud": {},
  "kernelspec": {
   "display_name": "Python 3",
   "language": "python",
   "name": "python3"
  },
  "language_info": {
   "codemirror_mode": {
    "name": "ipython",
    "version": 3
   },
   "file_extension": ".py",
   "mimetype": "text/x-python",
   "name": "python",
   "nbconvert_exporter": "python",
   "pygments_lexer": "ipython3",
   "version": "3.7.0"
  }
 },
 "nbformat": 4,
 "nbformat_minor": 1
}

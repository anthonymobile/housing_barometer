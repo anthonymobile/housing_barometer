{
 "cells": [
  {
   "cell_type": "code",
   "execution_count": 1,
   "metadata": {},
   "outputs": [],
   "source": [
    "import pandas as pd"
   ]
  },
  {
   "cell_type": "code",
   "execution_count": null,
   "metadata": {},
   "outputs": [],
   "source": [
    "# fetch from NJ state"
   ]
  },
  {
   "cell_type": "code",
   "execution_count": null,
   "metadata": {},
   "outputs": [],
   "source": [
    "# run through NJParcelTools sr1a_to_csv\n"
   ]
  },
  {
   "cell_type": "code",
   "execution_count": 2,
   "metadata": {},
   "outputs": [],
   "source": [
    "#load\n",
    "sales12 = pd.read_csv('Sales12.csv', header=0, index_col='pams_pin', low_memory=False)\n",
    "sales13 = pd.read_csv('Sales13.csv', header=0, index_col='pams_pin', low_memory=False)\n",
    "sales14 = pd.read_csv('Sales14.csv', header=0, index_col='pams_pin', low_memory=False)\n",
    "sales15 = pd.read_csv('Sales15.csv', header=0, index_col='pams_pin', low_memory=False)\n",
    "sales16 = pd.read_csv('Sales16.csv', header=0, index_col='pams_pin', low_memory=False)\n",
    "sales17 = pd.read_csv('Sales17.csv', header=0, index_col='pams_pin', low_memory=False)\n",
    "sales18 = pd.read_csv('Sales18_asof_dec12.csv', header=0, index_col='pams_pin', low_memory=False)\n"
   ]
  },
  {
   "cell_type": "code",
   "execution_count": 3,
   "metadata": {},
   "outputs": [],
   "source": [
    "# filter out JC\n",
    "sales12 = sales12.loc[sales12['county_code'] == 9]\n",
    "sales12 = sales12.loc[sales12['district_code'] == 6]\n",
    "sales12['year'] = '2012'\n",
    "\n",
    "sales13 = sales13.loc[sales13['county_code'] == 9]\n",
    "sales13 = sales13.loc[sales13['district_code'] == 6]\n",
    "sales13['year'] = '2013'\n",
    "\n",
    "sales14 = sales14.loc[sales14['county_code'] == 9]\n",
    "sales14 = sales14.loc[sales14['district_code'] == 6]\n",
    "sales14['year'] = '2014'\n",
    "\n",
    "sales15 = sales15.loc[sales15['county_code'] == 9]\n",
    "sales15 = sales15.loc[sales15['district_code'] == 6]\n",
    "sales15['year'] = '2015'\n",
    "\n",
    "sales16 = sales16.loc[sales16['county_code'] == 9]\n",
    "sales16 = sales16.loc[sales16['district_code'] == 6]\n",
    "sales16['year'] = '2016'\n",
    "\n",
    "sales17 = sales17.loc[sales17['county_code'] == 9]\n",
    "sales17 = sales17.loc[sales17['district_code'] == 6]\n",
    "sales17['year'] = '2017'\n",
    "\n",
    "sales18 = sales18.loc[sales18['county_code'] == 9]\n",
    "sales18 = sales18.loc[sales18['district_code'] == 6]\n",
    "sales18['year'] = '2018'"
   ]
  },
  {
   "cell_type": "code",
   "execution_count": 5,
   "metadata": {},
   "outputs": [],
   "source": [
    "sales_2012_2018=result = sales12.append([sales13, sales14, sales15, sales16, sales17, sales18])"
   ]
  },
  {
   "cell_type": "code",
   "execution_count": 9,
   "metadata": {},
   "outputs": [],
   "source": [
    "sales_2012_2018.to_csv('Sales_2012_2018.csv')"
   ]
  },
  {
   "cell_type": "code",
   "execution_count": null,
   "metadata": {},
   "outputs": [],
   "source": [
    "# load these into a postgres table, fetch and update it?\n"
   ]
  },
  {
   "cell_type": "code",
   "execution_count": null,
   "metadata": {},
   "outputs": [],
   "source": []
  }
 ],
 "metadata": {
  "kernelspec": {
   "display_name": "Python 3",
   "language": "python",
   "name": "python3"
  },
  "language_info": {
   "codemirror_mode": {
    "name": "ipython",
    "version": 3
   },
   "file_extension": ".py",
   "mimetype": "text/x-python",
   "name": "python",
   "nbconvert_exporter": "python",
   "pygments_lexer": "ipython3",
   "version": "3.7.0"
  }
 },
 "nbformat": 4,
 "nbformat_minor": 2
}
